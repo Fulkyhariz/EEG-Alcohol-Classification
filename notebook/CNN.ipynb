{
 "cells": [
  {
   "cell_type": "code",
   "execution_count": 5,
   "metadata": {},
   "outputs": [],
   "source": [
    "import tensorflow as tf\n",
    "from tensorflow import keras\n",
    "from tensorflow.keras import layers\n",
    "import pandas as pd\n",
    "import os\n",
    "import numpy as np\n",
    "import matplotlib.pyplot as plt\n",
    "import json\n",
    "import random"
   ]
  },
  {
   "attachments": {},
   "cell_type": "markdown",
   "metadata": {},
   "source": [
    "### Data Preparation"
   ]
  },
  {
   "cell_type": "code",
   "execution_count": 2,
   "metadata": {},
   "outputs": [],
   "source": [
    "def get_dataset(directory):\n",
    "    feature = []\n",
    "    label = []\n",
    "    for foldername in os.listdir(directory):\n",
    "        folder = os.path.join(directory, foldername)\n",
    "        if os.path.isdir(folder):\n",
    "            files = os.listdir(folder)\n",
    "            for filename in files:\n",
    "                rel_path = os.path.join(directory, foldername, filename)\n",
    "                temp_label = filename.split('.')[0].split('_')[0]\n",
    "                if 'a' in temp_label:\n",
    "                    label = np.append(label,'alcoholic')\n",
    "                else:\n",
    "                    label = np.append(label,'control')\n",
    "                \n",
    "                df_data = np.loadtxt(rel_path, delimiter=\",\")\n",
    "                feature.append(df_data)\n",
    "    return feature, label"
   ]
  },
  {
   "attachments": {},
   "cell_type": "markdown",
   "metadata": {},
   "source": [
    "### Model Definition"
   ]
  },
  {
   "cell_type": "code",
   "execution_count": 6,
   "metadata": {},
   "outputs": [],
   "source": [
    "def create_model():\n",
    "    input_layer = keras.Input(shape=(512, 1))\n",
    "\n",
    "    x = layers.Conv1D(filters=8, kernel_size=8, strides=2, activation=\"relu\")(input_layer)\n",
    "    x = layers.MaxPooling1D(pool_size=2)(x)\n",
    "\n",
    "    x = layers.Conv1D(filters=4, kernel_size=4, strides=2, activation=\"relu\")(x)\n",
    "    x = layers.MaxPooling1D(pool_size=2)(x)\n",
    "\n",
    "    x = layers.Flatten()(x)\n",
    "\n",
    "    x = layers.Dense(4096, activation=\"relu\")(x)\n",
    "\n",
    "    x = layers.Dense(2048, activation=\"relu\")(x)\n",
    "\n",
    "    output_layer = layers.Dense(2, activation=\"softmax\")(x)\n",
    "\n",
    "    return keras.Model(inputs=input_layer, outputs=output_layer)"
   ]
  },
  {
   "cell_type": "code",
   "execution_count": 4,
   "metadata": {},
   "outputs": [
    {
     "name": "stdout",
     "output_type": "stream",
     "text": [
      "co2a0000364\n",
      "co2a0000365\n"
     ]
    },
    {
     "data": {
      "text/plain": [
       "array(['alcoholic', 'alcoholic', 'alcoholic', 'alcoholic', 'alcoholic',\n",
       "       'alcoholic', 'control', 'alcoholic', 'alcoholic', 'alcoholic',\n",
       "       'alcoholic', 'alcoholic', 'alcoholic', 'alcoholic'], dtype='<U32')"
      ]
     },
     "execution_count": 4,
     "metadata": {},
     "output_type": "execute_result"
    }
   ],
   "source": [
    "# loading extracted feature & label\n",
    "x_test, y_test = get_dataset('../SMNI_CMI_TEST_FEATURE')\n",
    "x_train, y_train = get_dataset('../SMNI_CMI_TRAIN_FEATURE')"
   ]
  }
 ],
 "metadata": {
  "kernelspec": {
   "display_name": "skripsi",
   "language": "python",
   "name": "python3"
  },
  "language_info": {
   "codemirror_mode": {
    "name": "ipython",
    "version": 3
   },
   "file_extension": ".py",
   "mimetype": "text/x-python",
   "name": "python",
   "nbconvert_exporter": "python",
   "pygments_lexer": "ipython3",
   "version": "3.9.16"
  },
  "orig_nbformat": 4
 },
 "nbformat": 4,
 "nbformat_minor": 2
}
