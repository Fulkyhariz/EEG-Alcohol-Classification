{
 "cells": [
  {
   "cell_type": "code",
   "execution_count": 22,
   "metadata": {},
   "outputs": [],
   "source": [
    "# Importing necessary library\n",
    "import numpy as np\n",
    "import matplotlib.pyplot as plt\n",
    "import pywt\n",
    "import pandas as pd\n",
    "import os\n",
    "from scipy import signal\n",
    "from stingray import lightcurve\n",
    "import sys\n",
    "from stingray import Bispectrum\n",
    "import warnings\n",
    "import csv\n",
    "warnings.filterwarnings('ignore')\n",
    "%matplotlib inline"
   ]
  },
  {
   "cell_type": "code",
   "execution_count": null,
   "metadata": {},
   "outputs": [],
   "source": [
    "# Importing necessary library\n",
    "import numpy as np\n",
    "import matplotlib.pyplot as plt\n",
    "import pywt\n",
    "import pandas as pd\n",
    "import os\n",
    "from scipy import signal\n",
    "from stingray import lightcurve\n",
    "import sys\n",
    "from stingray import Bispectrum\n",
    "import warnings\n",
    "import csv\n",
    "warnings.filterwarnings('ignore')\n",
    "%matplotlib inline"
   ]
  },
  {
   "attachments": {},
   "cell_type": "markdown",
   "metadata": {},
   "source": [
    "### Menghitung Matriks Cumulant orde ke-3"
   ]
  },
  {
   "cell_type": "code",
   "execution_count": 7,
   "metadata": {},
   "outputs": [],
   "source": [
    "def calcCumulantOrde3(df_data, t, lag):\n",
    "    # Compute the bispectrum of the signal\n",
    "    lc = lightcurve.Lightcurve(t,df_data.T)\n",
    "    bs = Bispectrum(lc, maxlag=lag)\n",
    "\n",
    "    # Plot the bispectrum using contour plots\n",
    "    # plt.contour(bs.freq, bs.freq, bs.bispec_mag)\n",
    "    # plt.xlabel('f1')\n",
    "    # plt.ylabel('f2')\n",
    "    # plt.show()\n",
    "\n",
    "    # # Plot the bispectrum using mesh plots\n",
    "    # fig = plt.figure()\n",
    "    # ax = fig.add_subplot(111, projection='3d')\n",
    "    # X, Y = np.meshgrid(bs.freq, bs.freq)\n",
    "    # ax.plot_surface(X, Y, bs.bispec_mag)\n",
    "    # ax.set_xlabel('f1')\n",
    "    # ax.set_ylabel('f2')\n",
    "    # ax.set_zlabel('Bispectrum')\n",
    "    # plt.show()\n",
    "\n",
    "    return bs"
   ]
  },
  {
   "attachments": {},
   "cell_type": "markdown",
   "metadata": {},
   "source": [
    "### Melakukan dekomposisi wavelet"
   ]
  },
  {
   "cell_type": "code",
   "execution_count": 8,
   "metadata": {},
   "outputs": [],
   "source": [
    "def calcWaveletDec(bs):\n",
    "    # Select wavelet and decomposition level\n",
    "    wavelet = 'db4'\n",
    "    level = 5\n",
    "\n",
    "    # Deecompose signal\n",
    "    coeffs = pywt.wavedec(bs.cum3, wavelet, level=level)\n",
    "    \n",
    "    # # Visualize\n",
    "    # approximations = []\n",
    "    # details = []\n",
    "    # for i in range(level):\n",
    "    #     approximations.append(coeffs[i])\n",
    "    #     details.append(coeffs[level - i])\n",
    "\n",
    "    # fig, axs = plt.subplots(len(coeffs), sharex=True)\n",
    "    # for i, c in enumerate(coeffs):\n",
    "    #     axs[i].plot(c)\n",
    "    #     axs[i].set_ylabel(f'Level {i}')\n",
    "    # plt.show()\n",
    "    return coeffs"
   ]
  },
  {
   "attachments": {},
   "cell_type": "markdown",
   "metadata": {},
   "source": [
    "### Menghitung energi relatif"
   ]
  },
  {
   "cell_type": "code",
   "execution_count": 9,
   "metadata": {},
   "outputs": [],
   "source": [
    "def calcRelativeEnergy(coeffs, df_data):\n",
    "    # Calculate relative wavelet energy\n",
    "    energies = []\n",
    "    for c in coeffs:\n",
    "        energies.append(np.sum(np.square(c)))\n",
    "\n",
    "    decomp = ['A5', 'D1', 'D2', 'D3', 'D4', 'D5']\n",
    "\n",
    "    temp = energies\n",
    "    energies[1:6] = energies[-1:-6:-1]\n",
    "\n",
    "    total_energy = np.sum(np.square(df_data.T))\n",
    "    relative_energies = [e / total_energy for e in energies]\n",
    "\n",
    "    # plt.plot(decomp, energies)\n",
    "    # plt.xlabel('Dimension Number')\n",
    "    # plt.ylabel('Wavelet Bispectrum Energy')\n",
    "    # plt.show()\n",
    "\n",
    "    # plt.plot(decomp, relative_energies)\n",
    "    # plt.xlabel('Dimension Number')\n",
    "    # plt.ylabel('Relative Wavelet Bispectrum Energy')\n",
    "    # plt.show()\n",
    "\n",
    "    return energies, relative_energies"
   ]
  },
  {
   "attachments": {},
   "cell_type": "markdown",
   "metadata": {},
   "source": [
    "### Persiapan data"
   ]
  },
  {
   "cell_type": "code",
   "execution_count": 10,
   "metadata": {},
   "outputs": [],
   "source": [
    "# Define sampling frequency\n",
    "fs = 256\n",
    "t = np.arange(0, 1, 1/fs)\n",
    "\n",
    "def get_csv_EEG(filename):\n",
    "    # Load data from CSV\n",
    "    data = np.loadtxt(filename, delimiter=\",\", skiprows=1, usecols=range(3,259))\n",
    "    channel_name = np.loadtxt(filename, delimiter=\",\", skiprows=1, usecols=1, dtype='str', encoding='utf-8')\n",
    "    \n",
    "    df_data = pd.DataFrame(data.T, columns=channel_name)\n",
    "\n",
    "    df_data = df_data.drop(columns=['X', 'Y', 'nd'])\n",
    "\n",
    "    return df_data, df_data.columns\n"
   ]
  },
  {
   "attachments": {},
   "cell_type": "markdown",
   "metadata": {},
   "source": [
    "### Perhitungan RWB"
   ]
  },
  {
   "cell_type": "code",
   "execution_count": 23,
   "metadata": {},
   "outputs": [],
   "source": [
    "def extract_feature(directory, lag):\n",
    "    for foldername in os.listdir(directory):\n",
    "        folder = os.path.join(directory, foldername)\n",
    "        if os.path.isdir(folder):\n",
    "            des_dir = os.path.join(directory.replace('CSV', 'FEATURE')+\"_\" + str(lag),foldername).lower()\n",
    "            files = os.listdir(folder)\n",
    "            for filename in files:\n",
    "                rel_path = os.path.join(directory, foldername, filename)\n",
    "                if 'metadata' in filename.lower():\n",
    "                    continue\n",
    "                trial_number = filename.split('.')[0].split('_')[1]\n",
    "                df_data, channel_name = get_csv_EEG(rel_path)\n",
    "                RWB = []\n",
    "                for channel in channel_name:\n",
    "                    energies, relative_energies = calcRelativeEnergy(calcWaveletDec(calcCumulantOrde3(df_data[channel], t, lag)), df_data[channel])\n",
    "                    for x in relative_energies:\n",
    "                        RWB.append(x)\n",
    "                des_file = foldername+'_'+ str(trial_number) + '_feature' +'.csv'\n",
    "                if not os.path.exists(des_dir):\n",
    "                    os.makedirs(des_dir)\n",
    "                des_path = os.path.join(des_dir, des_file)\n",
    "                with open(des_path, 'w') as file:\n",
    "                    writer = csv.writer(file)\n",
    "                    writer.writerow(RWB)\n",
    "                # pd.DataFrame(RWB.T).to_csv(des_path, index=False)\n",
    "        \n"
   ]
  },
  {
   "cell_type": "code",
   "execution_count": 24,
   "metadata": {},
   "outputs": [],
   "source": [
    "extract_feature('../SMNI_CMI_TEST_CSV', 256)"
   ]
  }
 ],
 "metadata": {
  "kernelspec": {
   "display_name": "skripsi",
   "language": "python",
   "name": "python3"
  },
  "language_info": {
   "codemirror_mode": {
    "name": "ipython",
    "version": 3
   },
   "file_extension": ".py",
   "mimetype": "text/x-python",
   "name": "python",
   "nbconvert_exporter": "python",
   "pygments_lexer": "ipython3",
   "version": "3.9.16"
  },
  "orig_nbformat": 4,
  "vscode": {
   "interpreter": {
    "hash": "7899ebb7610f36207965d38f68f9fcf69ead4646d08358e8b81fddd5bb8ec13e"
   }
  }
 },
 "nbformat": 4,
 "nbformat_minor": 2
}
