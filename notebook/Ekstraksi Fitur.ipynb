{
 "cells": [
  {
   "cell_type": "code",
   "execution_count": 2,
   "metadata": {},
   "outputs": [
    {
     "name": "stderr",
     "output_type": "stream",
     "text": [
      "c:\\Users\\fulky\\anaconda3\\envs\\skripsi\\lib\\site-packages\\stingray\\utils.py:25: UserWarning: pyfftw not installed. Using standard scipy fft\n",
      "  warnings.warn(\"pyfftw not installed. Using standard scipy fft\")\n",
      "c:\\Users\\fulky\\anaconda3\\envs\\skripsi\\lib\\site-packages\\stingray\\utils.py:40: UserWarning: Numba not installed. Faking it\n",
      "  warnings.warn(\"Numba not installed. Faking it\")\n"
     ]
    }
   ],
   "source": [
    "# Importing necessary library\n",
    "import numpy as np\n",
    "import matplotlib.pyplot as plt\n",
    "import pywt\n",
    "import pandas as pd\n",
    "import os\n",
    "from scipy import signal\n",
    "from stingray import lightcurve\n",
    "import sys\n",
    "from stingray import Bispectrum\n",
    "import warnings\n",
    "warnings.filterwarnings('ignore')\n",
    "%matplotlib inline"
   ]
  },
  {
   "attachments": {},
   "cell_type": "markdown",
   "metadata": {},
   "source": [
    "### Menghitung Matriks Cumulant orde ke-3"
   ]
  },
  {
   "cell_type": "code",
   "execution_count": 2,
   "metadata": {},
   "outputs": [],
   "source": [
    "def calcCumulantOrde3(df_data, t, lag):\n",
    "    # Compute the bispectrum of the signal\n",
    "    lc = lightcurve.Lightcurve(t,df_data.T)\n",
    "    bs = Bispectrum(lc, maxlag=lag)\n",
    "\n",
    "    # Plot the bispectrum using contour plots\n",
    "    # plt.contour(bs.freq, bs.freq, bs.bispec_mag)\n",
    "    # plt.xlabel('f1')\n",
    "    # plt.ylabel('f2')\n",
    "    # plt.show()\n",
    "\n",
    "    # # Plot the bispectrum using mesh plots\n",
    "    # fig = plt.figure()\n",
    "    # ax = fig.add_subplot(111, projection='3d')\n",
    "    # X, Y = np.meshgrid(bs.freq, bs.freq)\n",
    "    # ax.plot_surface(X, Y, bs.bispec_mag)\n",
    "    # ax.set_xlabel('f1')\n",
    "    # ax.set_ylabel('f2')\n",
    "    # ax.set_zlabel('Bispectrum')\n",
    "    # plt.show()\n",
    "\n",
    "    return bs"
   ]
  },
  {
   "attachments": {},
   "cell_type": "markdown",
   "metadata": {},
   "source": [
    "### Melakukan dekomposisi wavelet"
   ]
  },
  {
   "cell_type": "code",
   "execution_count": 3,
   "metadata": {},
   "outputs": [],
   "source": [
    "def calcWaveletDec(bs):\n",
    "    # Select wavelet and decomposition level\n",
    "    wavelet = 'db4'\n",
    "    level = 5\n",
    "\n",
    "    # Deecompose signal\n",
    "    coeffs = pywt.wavedec(bs.cum3, wavelet, level=level)\n",
    "    \n",
    "    # # Visualize\n",
    "    # approximations = []\n",
    "    # details = []\n",
    "    # for i in range(level):\n",
    "    #     approximations.append(coeffs[i])\n",
    "    #     details.append(coeffs[level - i])\n",
    "\n",
    "    # fig, axs = plt.subplots(len(coeffs), sharex=True)\n",
    "    # for i, c in enumerate(coeffs):\n",
    "    #     axs[i].plot(c)\n",
    "    #     axs[i].set_ylabel(f'Level {i}')\n",
    "    # plt.show()\n",
    "    return coeffs"
   ]
  },
  {
   "attachments": {},
   "cell_type": "markdown",
   "metadata": {},
   "source": [
    "### Menghitung energi relatif"
   ]
  },
  {
   "cell_type": "code",
   "execution_count": 4,
   "metadata": {},
   "outputs": [],
   "source": [
    "def calcRelativeEnergy(coeffs, df_data):\n",
    "    # Calculate relative wavelet energy\n",
    "    energies = []\n",
    "    for c in coeffs:\n",
    "        energies.append(np.sum(np.square(c)))\n",
    "\n",
    "    decomp = ['A5', 'D1', 'D2', 'D3', 'D4', 'D5']\n",
    "\n",
    "    temp = energies\n",
    "    energies[1:6] = energies[-1:-6:-1]\n",
    "\n",
    "    total_energy = np.sum(np.square(df_data.T))\n",
    "    relative_energies = [e / total_energy for e in energies]\n",
    "\n",
    "    # plt.plot(decomp, energies)\n",
    "    # plt.xlabel('Dimension Number')\n",
    "    # plt.ylabel('Wavelet Bispectrum Energy')\n",
    "    # plt.show()\n",
    "\n",
    "    # plt.plot(decomp, relative_energies)\n",
    "    # plt.xlabel('Dimension Number')\n",
    "    # plt.ylabel('Relative Wavelet Bispectrum Energy')\n",
    "    # plt.show()\n",
    "\n",
    "    return energies, relative_energies"
   ]
  },
  {
   "attachments": {},
   "cell_type": "markdown",
   "metadata": {},
   "source": [
    "### Persiapan data"
   ]
  },
  {
   "cell_type": "code",
   "execution_count": 13,
   "metadata": {},
   "outputs": [],
   "source": [
    "# Define sampling frequency\n",
    "fs = 256\n",
    "t = np.arange(0, 1, 1/fs)\n",
    "\n",
    "def get_csv_EEG(filename):\n",
    "    # Load data from CSV\n",
    "    data = np.loadtxt(filename, delimiter=\",\", skiprows=1, usecols=range(3,259))\n",
    "    channel_name = np.loadtxt(filename, delimiter=\",\", skiprows=1, usecols=1, dtype='str', encoding='utf-8')\n",
    "    \n",
    "    df_data = pd.DataFrame(data.T, columns=channel_name)\n",
    "\n",
    "    df_data = df_data.drop(columns=['X', 'Y', 'nd'])\n",
    "\n",
    "    return df_data, channel_name\n"
   ]
  },
  {
   "attachments": {},
   "cell_type": "markdown",
   "metadata": {},
   "source": [
    "### Perhitungan RWB"
   ]
  },
  {
   "cell_type": "code",
   "execution_count": 10,
   "metadata": {},
   "outputs": [],
   "source": [
    "def extract_feature(directory, lag):\n",
    "    for foldername in os.listdir(directory):\n",
    "        folder = os.path.join(directory, foldername)\n",
    "        if os.path.isdir(folder):\n",
    "            des_dir = os.path.join(directory.replace('CSV', 'FEATURE')+\"_\" + str(lag),foldername).lower()\n",
    "            files = os.listdir(folder)\n",
    "            for filename in files:\n",
    "                rel_path = os.path.join(directory, foldername, filename)\n",
    "                if 'metadata' in filename.lower():\n",
    "                    continue\n",
    "                trial_number = filename.split('.')[0].split('_')[1]\n",
    "                df_data, channel_name = get_csv_EEG(rel_path)\n",
    "                RWB = []\n",
    "                for channel in channel_name:\n",
    "                    energies, relative_energies = calcRelativeEnergy(calcWaveletDec(calcCumulantOrde3(df_data[channel], t, lag)), df_data[channel])\n",
    "                    RWB = np.append(RWB, relative_energies)\n",
    "                des_file = foldername+'_'+ str(trial_number) + '_feature' +'.csv'\n",
    "                if not os.path.exists(des_dir):\n",
    "                    os.makedirs(des_dir)\n",
    "                des_path = os.path.join(des_dir, des_file)\n",
    "                pd.DataFrame(RWB).to_csv(des_path, index=False)\n",
    "        \n"
   ]
  },
  {
   "cell_type": "code",
   "execution_count": 12,
   "metadata": {},
   "outputs": [
    {
     "ename": "KeyboardInterrupt",
     "evalue": "",
     "output_type": "error",
     "traceback": [
      "\u001b[1;31m---------------------------------------------------------------------------\u001b[0m",
      "\u001b[1;31mKeyboardInterrupt\u001b[0m                         Traceback (most recent call last)",
      "Cell \u001b[1;32mIn[12], line 1\u001b[0m\n\u001b[1;32m----> 1\u001b[0m extract_feature(\u001b[39m'\u001b[39;49m\u001b[39m../SMNI_CMI_TEST_CSV\u001b[39;49m\u001b[39m'\u001b[39;49m, \u001b[39m256\u001b[39;49m)\n",
      "Cell \u001b[1;32mIn[10], line 15\u001b[0m, in \u001b[0;36mextract_feature\u001b[1;34m(directory, lag)\u001b[0m\n\u001b[0;32m     13\u001b[0m RWB \u001b[39m=\u001b[39m []\n\u001b[0;32m     14\u001b[0m \u001b[39mfor\u001b[39;00m channel \u001b[39min\u001b[39;00m channel_name:\n\u001b[1;32m---> 15\u001b[0m     energies, relative_energies \u001b[39m=\u001b[39m calcRelativeEnergy(calcWaveletDec(calcCumulantOrde3(df_data[channel], t, lag)), df_data[channel])\n\u001b[0;32m     16\u001b[0m     RWB \u001b[39m=\u001b[39m np\u001b[39m.\u001b[39mappend(RWB, relative_energies)\n\u001b[0;32m     17\u001b[0m des_file \u001b[39m=\u001b[39m foldername\u001b[39m+\u001b[39m\u001b[39m'\u001b[39m\u001b[39m_\u001b[39m\u001b[39m'\u001b[39m\u001b[39m+\u001b[39m \u001b[39mstr\u001b[39m(trial_number) \u001b[39m+\u001b[39m \u001b[39m'\u001b[39m\u001b[39m_feature\u001b[39m\u001b[39m'\u001b[39m \u001b[39m+\u001b[39m\u001b[39m'\u001b[39m\u001b[39m.csv\u001b[39m\u001b[39m'\u001b[39m\n",
      "Cell \u001b[1;32mIn[2], line 4\u001b[0m, in \u001b[0;36mcalcCumulantOrde3\u001b[1;34m(df_data, t, lag)\u001b[0m\n\u001b[0;32m      1\u001b[0m \u001b[39mdef\u001b[39;00m \u001b[39mcalcCumulantOrde3\u001b[39m(df_data, t, lag):\n\u001b[0;32m      2\u001b[0m     \u001b[39m# Compute the bispectrum of the signal\u001b[39;00m\n\u001b[0;32m      3\u001b[0m     lc \u001b[39m=\u001b[39m lightcurve\u001b[39m.\u001b[39mLightcurve(t,df_data\u001b[39m.\u001b[39mT)\n\u001b[1;32m----> 4\u001b[0m     bs \u001b[39m=\u001b[39m Bispectrum(lc, maxlag\u001b[39m=\u001b[39;49mlag)\n\u001b[0;32m      6\u001b[0m     \u001b[39m# Plot the bispectrum using contour plots\u001b[39;00m\n\u001b[0;32m      7\u001b[0m     \u001b[39m# plt.contour(bs.freq, bs.freq, bs.bispec_mag)\u001b[39;00m\n\u001b[0;32m      8\u001b[0m     \u001b[39m# plt.xlabel('f1')\u001b[39;00m\n\u001b[1;32m   (...)\u001b[0m\n\u001b[0;32m     19\u001b[0m     \u001b[39m# ax.set_zlabel('Bispectrum')\u001b[39;00m\n\u001b[0;32m     20\u001b[0m     \u001b[39m# plt.show()\u001b[39;00m\n\u001b[0;32m     22\u001b[0m     \u001b[39mreturn\u001b[39;00m bs\n",
      "File \u001b[1;32mc:\\Users\\fulky\\anaconda3\\envs\\skripsi\\lib\\site-packages\\stingray\\bispectrum.py:123\u001b[0m, in \u001b[0;36mBispectrum.__init__\u001b[1;34m(self, lc, maxlag, window, scale)\u001b[0m\n\u001b[0;32m    120\u001b[0m \u001b[39mdef\u001b[39;00m \u001b[39m__init__\u001b[39m(\u001b[39mself\u001b[39m, lc, maxlag\u001b[39m=\u001b[39m\u001b[39mNone\u001b[39;00m, window\u001b[39m=\u001b[39m\u001b[39mNone\u001b[39;00m, scale\u001b[39m=\u001b[39m\u001b[39m'\u001b[39m\u001b[39mbiased\u001b[39m\u001b[39m'\u001b[39m):\n\u001b[0;32m    121\u001b[0m \n\u001b[0;32m    122\u001b[0m     \u001b[39m# Function call to create Bispectrum Object\u001b[39;00m\n\u001b[1;32m--> 123\u001b[0m     \u001b[39mself\u001b[39;49m\u001b[39m.\u001b[39;49m_make_bispetrum(lc, maxlag, window, scale)\n",
      "File \u001b[1;32mc:\\Users\\fulky\\anaconda3\\envs\\skripsi\\lib\\site-packages\\stingray\\bispectrum.py:192\u001b[0m, in \u001b[0;36mBispectrum._make_bispetrum\u001b[1;34m(self, lc, maxlag, window, scale)\u001b[0m\n\u001b[0;32m    190\u001b[0m \u001b[39mself\u001b[39m\u001b[39m.\u001b[39m_cumulant3()\n\u001b[0;32m    191\u001b[0m \u001b[39mself\u001b[39m\u001b[39m.\u001b[39m_normalize_cumulant3()\n\u001b[1;32m--> 192\u001b[0m \u001b[39mself\u001b[39;49m\u001b[39m.\u001b[39;49m_cal_bispec()\n",
      "File \u001b[1;32mc:\\Users\\fulky\\anaconda3\\envs\\skripsi\\lib\\site-packages\\stingray\\bispectrum.py:316\u001b[0m, in \u001b[0;36mBispectrum._cal_bispec\u001b[1;34m(self)\u001b[0m\n\u001b[0;32m    314\u001b[0m \u001b[39m# Apply window if specified otherwise calculate with applying window\u001b[39;00m\n\u001b[0;32m    315\u001b[0m \u001b[39mif\u001b[39;00m \u001b[39mself\u001b[39m\u001b[39m.\u001b[39mwindow \u001b[39mis\u001b[39;00m \u001b[39mNone\u001b[39;00m:\n\u001b[1;32m--> 316\u001b[0m     \u001b[39mself\u001b[39m\u001b[39m.\u001b[39mbispec \u001b[39m=\u001b[39m fftshift(fft2(ifftshift(\u001b[39mself\u001b[39;49m\u001b[39m.\u001b[39;49mcum3)))\n\u001b[0;32m    317\u001b[0m \u001b[39melse\u001b[39;00m:\n\u001b[0;32m    318\u001b[0m     \u001b[39mself\u001b[39m\u001b[39m.\u001b[39mbispec \u001b[39m=\u001b[39m fftshift(fft2(ifftshift(\u001b[39mself\u001b[39m\u001b[39m.\u001b[39mcum3 \u001b[39m*\u001b[39m \u001b[39mself\u001b[39m\u001b[39m.\u001b[39mwindow)))\n",
      "File \u001b[1;32m<__array_function__ internals>:180\u001b[0m, in \u001b[0;36mfftshift\u001b[1;34m(*args, **kwargs)\u001b[0m\n",
      "File \u001b[1;32mc:\\Users\\fulky\\anaconda3\\envs\\skripsi\\lib\\site-packages\\numpy\\fft\\helper.py:73\u001b[0m, in \u001b[0;36mfftshift\u001b[1;34m(x, axes)\u001b[0m\n\u001b[0;32m     70\u001b[0m \u001b[39melse\u001b[39;00m:\n\u001b[0;32m     71\u001b[0m     shift \u001b[39m=\u001b[39m [x\u001b[39m.\u001b[39mshape[ax] \u001b[39m/\u001b[39m\u001b[39m/\u001b[39m \u001b[39m2\u001b[39m \u001b[39mfor\u001b[39;00m ax \u001b[39min\u001b[39;00m axes]\n\u001b[1;32m---> 73\u001b[0m \u001b[39mreturn\u001b[39;00m roll(x, shift, axes)\n",
      "File \u001b[1;32m<__array_function__ internals>:180\u001b[0m, in \u001b[0;36mroll\u001b[1;34m(*args, **kwargs)\u001b[0m\n",
      "File \u001b[1;32mc:\\Users\\fulky\\anaconda3\\envs\\skripsi\\lib\\site-packages\\numpy\\core\\numeric.py:1248\u001b[0m, in \u001b[0;36mroll\u001b[1;34m(a, shift, axis)\u001b[0m\n\u001b[0;32m   1246\u001b[0m \u001b[39mfor\u001b[39;00m indices \u001b[39min\u001b[39;00m itertools\u001b[39m.\u001b[39mproduct(\u001b[39m*\u001b[39mrolls):\n\u001b[0;32m   1247\u001b[0m     arr_index, res_index \u001b[39m=\u001b[39m \u001b[39mzip\u001b[39m(\u001b[39m*\u001b[39mindices)\n\u001b[1;32m-> 1248\u001b[0m     result[res_index] \u001b[39m=\u001b[39m a[arr_index]\n\u001b[0;32m   1250\u001b[0m \u001b[39mreturn\u001b[39;00m result\n",
      "\u001b[1;31mKeyboardInterrupt\u001b[0m: "
     ]
    }
   ],
   "source": [
    "extract_feature('../SMNI_CMI_TEST_CSV', 256)"
   ]
  }
 ],
 "metadata": {
  "kernelspec": {
   "display_name": "skripsi",
   "language": "python",
   "name": "python3"
  },
  "language_info": {
   "codemirror_mode": {
    "name": "ipython",
    "version": 3
   },
   "file_extension": ".py",
   "mimetype": "text/x-python",
   "name": "python",
   "nbconvert_exporter": "python",
   "pygments_lexer": "ipython3",
   "version": "3.9.16"
  },
  "orig_nbformat": 4,
  "vscode": {
   "interpreter": {
    "hash": "7899ebb7610f36207965d38f68f9fcf69ead4646d08358e8b81fddd5bb8ec13e"
   }
  }
 },
 "nbformat": 4,
 "nbformat_minor": 2
}
