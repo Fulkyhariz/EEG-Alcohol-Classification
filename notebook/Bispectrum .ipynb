{
 "cells": [
  {
   "cell_type": "code",
   "execution_count": 6,
   "metadata": {},
   "outputs": [],
   "source": [
    "# Importing necessary library\n",
    "import numpy as np\n",
    "import matplotlib.pyplot as plt\n",
    "from matplotlib import cm\n",
    "import pywt\n",
    "import pandas as pd\n",
    "import os\n",
    "import time\n",
    "from scipy import signal\n",
    "from stingray import lightcurve\n",
    "import sys\n",
    "from stingray import Bispectrum\n",
    "import warnings\n",
    "import csv\n",
    "warnings.filterwarnings('ignore')\n",
    "%matplotlib inline"
   ]
  },
  {
   "cell_type": "code",
   "execution_count": 2,
   "metadata": {},
   "outputs": [],
   "source": [
    "# file that will be skipped because of information loss\n",
    "zeros_test = ['co2a0000368_91.csv', 'co2c0000341_26.csv']\n",
    "zeros_train = ['co2a0000368_0.csv', 'co2a0000368_1.csv', 'co2a0000368_2.csv', 'co2a0000368_3.csv', 'co2a0000368_4.csv', 'co2a0000368_5.csv', 'co2c0000341_27.csv']"
   ]
  },
  {
   "attachments": {},
   "cell_type": "markdown",
   "metadata": {},
   "source": [
    "### Menghitung Matriks Cumulant orde ke-3"
   ]
  },
  {
   "cell_type": "code",
   "execution_count": 3,
   "metadata": {},
   "outputs": [],
   "source": [
    "def calcCumulantOrde3(df_data, t, lag):\n",
    "    # Compute the bispectrum of the signal\n",
    "    lc = lightcurve.Lightcurve(t,df_data.T)\n",
    "    bs = Bispectrum(lc, maxlag=lag)\n",
    "\n",
    "    # Plot the bispectrum using contour plots\n",
    "    # plt.contour(bs.freq, bs.freq, bs.bispec_mag)\n",
    "    # plt.xlabel('f1')\n",
    "    # plt.ylabel('f2')\n",
    "    # plt.show()\n",
    "\n",
    "    # Plot the bispectrum using mesh plots\n",
    "    # fig = plt.figure()\n",
    "    # ax = fig.add_subplot(111, projection='3d')\n",
    "    # X, Y = np.meshgrid(bs.freq, bs.freq)\n",
    "    # ax.plot_surface(X, Y, bs.bispec_mag)\n",
    "    # ax.set_xlabel('f1')\n",
    "    # ax.set_ylabel('f2')\n",
    "    # ax.set_zlabel('Bispectrum')\n",
    "    # plt.show()\n",
    "\n",
    "    return bs.bispec_mag"
   ]
  },
  {
   "attachments": {},
   "cell_type": "markdown",
   "metadata": {},
   "source": [
    "### Creating Filter Matrix"
   ]
  },
  {
   "cell_type": "code",
   "execution_count": 7,
   "metadata": {},
   "outputs": [],
   "source": [
    "def create_pyramid(x,y):\n",
    "    Pyramid = np.zeros([x,y])\n",
    "    x = Pyramid.shape[0]\n",
    "    y = Pyramid.shape[1]\n",
    "\n",
    "    for i in range(x // 2):\n",
    "        for j in range(i, x - i):\n",
    "            for h in range(i, y - i):\n",
    "                Pyramid[j, h] = i\n",
    "\n",
    "    Pyramid = Pyramid/np.max(Pyramid)\n",
    "    # fig = plt.figure()\n",
    "    # ax = plt.axes(projection=\"3d\")\n",
    "    # x2d, y2d = np.meshgrid(np.arange(y), np.arange(x))\n",
    "    # ax.plot_surface(x2d, y2d, Pyramid)\n",
    "    # ax.set_xlabel('x')\n",
    "    # ax.set_ylabel('y')\n",
    "    # ax.set_zlabel('height')\n",
    "    # print(xtrack, ytrack)\n",
    "    # plt.show()\n",
    "    return Pyramid"
   ]
  },
  {
   "cell_type": "code",
   "execution_count": 16,
   "metadata": {},
   "outputs": [],
   "source": [
    "def create_feature(bispectrum, fsize):\n",
    "    big_fil_size = bispectrum.shape[0] //2\n",
    "    fil_size = [big_fil_size // (2 ** i) for i in range(fsize)]\n",
    "    fil_size[-1] = fil_size[-2] \n",
    "    feature_matrix = np.zeros([fsize,fsize])\n",
    "    xtrack = 0\n",
    "    ytrack = 0\n",
    "    for xdim in range(fsize):\n",
    "        for ydim in range(fsize):\n",
    "            x,y = fil_size[xdim], fil_size[ydim]\n",
    "            print(xtrack, ytrack)\n",
    "            Pyramid = create_pyramid(x,y)\n",
    "\n",
    "            feature_matrix[xdim][ydim] = np.mean(bispectrum[xtrack:xtrack+x, ytrack:ytrack+y] * Pyramid)\n",
    "            ytrack = ytrack+y\n",
    "        ytrack = 0\n",
    "        xtrack = xtrack+x\n",
    "    \n",
    "    final_feature = feature_matrix[[np.triu(np.ones_like(feature_matrix, dtype=bool))]]\n",
    "\n",
    "    return final_feature\n",
    "\n",
    "    # x, y = np.meshgrid(np.arange(256), np.arange(256))\n",
    "    # z = overall\n",
    "    # z = z[:-1, :-1]\n",
    "    # z_min, z_max = -np.abs(z).max(), np.abs(z).max()\n",
    "\n",
    "    # plt.subplot()\n",
    "\n",
    "    # plt.pcolormesh(x, y, z, \n",
    "    #             cmap =cm.coolwarm, \n",
    "    #             vmin = z_min, \n",
    "    #             vmax = z_max,\n",
    "    #             edgecolors = 'face',\n",
    "    #             shading ='flat')\n",
    "\n",
    "    # plt.title('Filter')\n",
    "\n",
    "    # # set the limits of the plot\n",
    "    # # to the limits of the data\n",
    "    # plt.axis([x.min(), x.max(), y.min(), y.max()])\n",
    "\n",
    "    # plt.colorbar()\n",
    "    # plt.show()\n",
    "\n",
    "    # fig, ax = plt.subplots(subplot_kw={\"projection\": \"3d\"}, figsize=(10, 5))\n",
    "    # ax = plt.axes(projection=\"3d\")\n",
    "    # x2d, y2d = np.meshgrid(np.arange(256), np.arange(256))\n",
    "    # ax.plot_surface(x2d, y2d, overall, cmap=cm.coolwarm,\n",
    "    #                         linewidth=0, antialiased=False)\n",
    "    # ax.set_xlabel('x')\n",
    "    # ax.set_ylabel('y')\n",
    "    # ax.set_zlabel('height')\n",
    "    # plt.show()"
   ]
  },
  {
   "attachments": {},
   "cell_type": "markdown",
   "metadata": {},
   "source": [
    "### Persiapan data"
   ]
  },
  {
   "cell_type": "code",
   "execution_count": 4,
   "metadata": {},
   "outputs": [],
   "source": [
    "# Define sampling frequency\n",
    "fs = 256\n",
    "t = np.arange(0, 1, 1/fs)\n",
    "\n",
    "def get_csv_EEG(filename):\n",
    "    # Load data from CSV\n",
    "    data = np.loadtxt(filename, delimiter=\",\", skiprows=1, usecols=range(3,259))\n",
    "    channel_name = np.loadtxt(filename, delimiter=\",\", skiprows=1, usecols=1, dtype='str', encoding='utf-8')\n",
    "    \n",
    "    df_data = pd.DataFrame(data.T, columns=channel_name)\n",
    "\n",
    "    df_data = df_data.drop(columns=['X', 'Y', 'nd'])\n",
    "\n",
    "    return df_data, df_data.columns\n"
   ]
  },
  {
   "attachments": {},
   "cell_type": "markdown",
   "metadata": {},
   "source": [
    "### Perhitungan Feature Bispectrum"
   ]
  },
  {
   "cell_type": "code",
   "execution_count": 9,
   "metadata": {},
   "outputs": [],
   "source": [
    "def extract_feature(directory, lag):\n",
    "    recap = pd.DataFrame(columns=['Wall Time', 'CPU Time'])\n",
    "    for foldername in os.listdir(directory):\n",
    "        folder = os.path.join(directory, foldername)\n",
    "        if os.path.isdir(folder):\n",
    "            des_dir = os.path.join(directory.replace('CSV', 'bispectrum')+\"_\" + str(lag),foldername).lower()\n",
    "            files = os.listdir(folder)\n",
    "            for filename in files:\n",
    "                cpu_start = time.process_time()\n",
    "                wt_start = time.time()\n",
    "                if filename in zeros_train or filename in zeros_test:\n",
    "                    continue\n",
    "                rel_path = os.path.join(directory, foldername, filename)\n",
    "                if 'metadata' in filename.lower():\n",
    "                    continue\n",
    "                trial_number = filename.split('.')[0].split('_')[1]\n",
    "                des_file = foldername+'_'+ str(trial_number) + '_bispectrum' +'.npy'\n",
    "                if not os.path.exists(des_dir):\n",
    "                    os.makedirs(des_dir)\n",
    "                des_path = os.path.join(des_dir, des_file)\n",
    "                if os.path.exists(des_path):\n",
    "                    continue\n",
    "                df_data, channel_name = get_csv_EEG(rel_path)\n",
    "                bispectrum = []\n",
    "                for channel in channel_name:\n",
    "                    magnitude = calcCumulantOrde3(df_data[channel], t, 256)\n",
    "                    bispectrum.append(magnitude)\n",
    "                bispectrum = np.array(bispectrum)\n",
    "                bispectrum = bispectrum[:,155:356,155:356]\n",
    "                np.save(des_path, bispectrum)\n",
    "                wt_end = time.time()\n",
    "                cpu_end = time.process_time()\n",
    "                wall_time = wt_end - wt_start\n",
    "                cpu_time = cpu_end - cpu_start\n",
    "                recap_temp = pd.DataFrame([[wall_time, cpu_time]],columns=recap.columns)\n",
    "                recap = pd.concat([recap, recap_temp], ignore_index=True)\n",
    "                # pd.DataFrame(RWB.T).to_csv(des_path, index=False)\n",
    "    recap_dir = os.path.join('./logs/Execution',directory.split('/')[1])\n",
    "    if not os.path.exists(recap_dir):\n",
    "        os.makedirs(recap_dir)\n",
    "    recap_path = os.path.join(recap_dir,'recap_bispectrum'+str(lag)+'.csv')\n",
    "    recap.to_csv(recap_path)    \n"
   ]
  },
  {
   "attachments": {},
   "cell_type": "markdown",
   "metadata": {},
   "source": [
    "### Main Program"
   ]
  },
  {
   "cell_type": "code",
   "execution_count": 10,
   "metadata": {},
   "outputs": [
    {
     "ename": "KeyboardInterrupt",
     "evalue": "",
     "output_type": "error",
     "traceback": [
      "\u001b[1;31m---------------------------------------------------------------------------\u001b[0m",
      "\u001b[1;31mKeyboardInterrupt\u001b[0m                         Traceback (most recent call last)",
      "Cell \u001b[1;32mIn[10], line 3\u001b[0m\n\u001b[0;32m      1\u001b[0m lags \u001b[39m=\u001b[39m [\u001b[39m256\u001b[39m, \u001b[39m128\u001b[39m, \u001b[39m64\u001b[39m, \u001b[39m32\u001b[39m, \u001b[39m16\u001b[39m, \u001b[39m8\u001b[39m, \u001b[39m4\u001b[39m, \u001b[39m2\u001b[39m]\n\u001b[0;32m      2\u001b[0m \u001b[39mfor\u001b[39;00m lag \u001b[39min\u001b[39;00m [\u001b[39m256\u001b[39m]:\n\u001b[1;32m----> 3\u001b[0m     extract_feature(\u001b[39m'\u001b[39;49m\u001b[39m../SMNI_CMI_TEST_CSV\u001b[39;49m\u001b[39m'\u001b[39;49m, lag)\n\u001b[0;32m      4\u001b[0m     extract_feature(\u001b[39m'\u001b[39m\u001b[39m../SMNI_CMI_TRAIN_CSV\u001b[39m\u001b[39m'\u001b[39m, lag)\n",
      "Cell \u001b[1;32mIn[9], line 23\u001b[0m, in \u001b[0;36mextract_feature\u001b[1;34m(directory, lag)\u001b[0m\n\u001b[0;32m     21\u001b[0m bispectrum \u001b[39m=\u001b[39m []\n\u001b[0;32m     22\u001b[0m \u001b[39mfor\u001b[39;00m channel \u001b[39min\u001b[39;00m channel_name:\n\u001b[1;32m---> 23\u001b[0m     magnitude \u001b[39m=\u001b[39m calcCumulantOrde3(df_data[channel], t, \u001b[39m256\u001b[39;49m)\n\u001b[0;32m     24\u001b[0m     bispectrum\u001b[39m.\u001b[39mappend(magnitude)\n\u001b[0;32m     25\u001b[0m bispectrum \u001b[39m=\u001b[39m np\u001b[39m.\u001b[39marray(bispectrum)\n",
      "Cell \u001b[1;32mIn[3], line 4\u001b[0m, in \u001b[0;36mcalcCumulantOrde3\u001b[1;34m(df_data, t, lag)\u001b[0m\n\u001b[0;32m      1\u001b[0m \u001b[39mdef\u001b[39;00m \u001b[39mcalcCumulantOrde3\u001b[39m(df_data, t, lag):\n\u001b[0;32m      2\u001b[0m     \u001b[39m# Compute the bispectrum of the signal\u001b[39;00m\n\u001b[0;32m      3\u001b[0m     lc \u001b[39m=\u001b[39m lightcurve\u001b[39m.\u001b[39mLightcurve(t,df_data\u001b[39m.\u001b[39mT)\n\u001b[1;32m----> 4\u001b[0m     bs \u001b[39m=\u001b[39m Bispectrum(lc, maxlag\u001b[39m=\u001b[39;49mlag)\n\u001b[0;32m      6\u001b[0m     \u001b[39m# Plot the bispectrum using contour plots\u001b[39;00m\n\u001b[0;32m      7\u001b[0m     \u001b[39m# plt.contour(bs.freq, bs.freq, bs.bispec_mag)\u001b[39;00m\n\u001b[0;32m      8\u001b[0m     \u001b[39m# plt.xlabel('f1')\u001b[39;00m\n\u001b[1;32m   (...)\u001b[0m\n\u001b[0;32m     19\u001b[0m     \u001b[39m# ax.set_zlabel('Bispectrum')\u001b[39;00m\n\u001b[0;32m     20\u001b[0m     \u001b[39m# plt.show()\u001b[39;00m\n\u001b[0;32m     22\u001b[0m     \u001b[39mreturn\u001b[39;00m bs\u001b[39m.\u001b[39mbispec_mag\n",
      "File \u001b[1;32mc:\\Users\\fulky\\anaconda3\\envs\\skripsi\\lib\\site-packages\\stingray\\bispectrum.py:123\u001b[0m, in \u001b[0;36mBispectrum.__init__\u001b[1;34m(self, lc, maxlag, window, scale)\u001b[0m\n\u001b[0;32m    120\u001b[0m \u001b[39mdef\u001b[39;00m \u001b[39m__init__\u001b[39m(\u001b[39mself\u001b[39m, lc, maxlag\u001b[39m=\u001b[39m\u001b[39mNone\u001b[39;00m, window\u001b[39m=\u001b[39m\u001b[39mNone\u001b[39;00m, scale\u001b[39m=\u001b[39m\u001b[39m'\u001b[39m\u001b[39mbiased\u001b[39m\u001b[39m'\u001b[39m):\n\u001b[0;32m    121\u001b[0m \n\u001b[0;32m    122\u001b[0m     \u001b[39m# Function call to create Bispectrum Object\u001b[39;00m\n\u001b[1;32m--> 123\u001b[0m     \u001b[39mself\u001b[39;49m\u001b[39m.\u001b[39;49m_make_bispetrum(lc, maxlag, window, scale)\n",
      "File \u001b[1;32mc:\\Users\\fulky\\anaconda3\\envs\\skripsi\\lib\\site-packages\\stingray\\bispectrum.py:190\u001b[0m, in \u001b[0;36mBispectrum._make_bispetrum\u001b[1;34m(self, lc, maxlag, window, scale)\u001b[0m\n\u001b[0;32m    187\u001b[0m \u001b[39m# Mean subtraction before bispecrum calculation\u001b[39;00m\n\u001b[0;32m    188\u001b[0m \u001b[39mself\u001b[39m\u001b[39m.\u001b[39msignal \u001b[39m=\u001b[39m \u001b[39mself\u001b[39m\u001b[39m.\u001b[39msignal \u001b[39m-\u001b[39m np\u001b[39m.\u001b[39mmean(lc\u001b[39m.\u001b[39mcounts)\n\u001b[1;32m--> 190\u001b[0m \u001b[39mself\u001b[39;49m\u001b[39m.\u001b[39;49m_cumulant3()\n\u001b[0;32m    191\u001b[0m \u001b[39mself\u001b[39m\u001b[39m.\u001b[39m_normalize_cumulant3()\n\u001b[0;32m    192\u001b[0m \u001b[39mself\u001b[39m\u001b[39m.\u001b[39m_cal_bispec()\n",
      "File \u001b[1;32mc:\\Users\\fulky\\anaconda3\\envs\\skripsi\\lib\\site-packages\\stingray\\bispectrum.py:250\u001b[0m, in \u001b[0;36mBispectrum._cumulant3\u001b[1;34m(self)\u001b[0m\n\u001b[0;32m    247\u001b[0m rev_signal \u001b[39m=\u001b[39m np\u001b[39m.\u001b[39mrepeat(rev_signal, [\u001b[39m2\u001b[39m \u001b[39m*\u001b[39m \u001b[39mself\u001b[39m\u001b[39m.\u001b[39mmaxlag \u001b[39m+\u001b[39m \u001b[39m1\u001b[39m], axis\u001b[39m=\u001b[39m\u001b[39m0\u001b[39m)\n\u001b[0;32m    249\u001b[0m \u001b[39m# Calulates Cummulant of 1D signal i.e. Lightcurve counts\u001b[39;00m\n\u001b[1;32m--> 250\u001b[0m \u001b[39mself\u001b[39m\u001b[39m.\u001b[39mcum3 \u001b[39m=\u001b[39m \u001b[39mself\u001b[39m\u001b[39m.\u001b[39mcum3 \u001b[39m+\u001b[39m np\u001b[39m.\u001b[39;49mmatmul(np\u001b[39m.\u001b[39;49mmultiply(toep, rev_signal), toep\u001b[39m.\u001b[39;49mtranspose())\n",
      "\u001b[1;31mKeyboardInterrupt\u001b[0m: "
     ]
    }
   ],
   "source": [
    "lags = [256, 128, 64, 32, 16, 8, 4, 2]\n",
    "for lag in [256]:\n",
    "    extract_feature('../SMNI_CMI_TEST_CSV', lag)\n",
    "    extract_feature('../SMNI_CMI_TRAIN_CSV', lag)"
   ]
  },
  {
   "cell_type": "code",
   "execution_count": 15,
   "metadata": {},
   "outputs": [
    {
     "data": {
      "text/plain": [
       "True"
      ]
     },
     "execution_count": 15,
     "metadata": {},
     "output_type": "execute_result"
    }
   ],
   "source": [
    "data = np.loadtxt('../out.csv', delimiter=\",\", skiprows=1, usecols=range(3,259))\n",
    "channel_name = np.loadtxt('../out.csv', delimiter=\",\", skiprows=1, usecols=1, dtype='str', encoding='utf-8')\n",
    "\n",
    "df_data = pd.DataFrame(data.T, columns=channel_name)\n",
    "df_data = df_data.drop(columns=['X', 'Y', 'nd'])\n",
    "bispectrum = []\n",
    "for channel in df_data.columns:\n",
    "    magnitude = calcCumulantOrde3(df_data[channel], t, 256)\n",
    "    bispectrum.append(magnitude)\n",
    "bispectrum = np.array(bispectrum)\n",
    "np.save('../bispectrum.npy', bispectrum)\n",
    "x = np.load('../bispectrum.npy')\n",
    "\n",
    "(bispectrum == x).all()"
   ]
  }
 ],
 "metadata": {
  "kernelspec": {
   "display_name": "skripsi",
   "language": "python",
   "name": "python3"
  },
  "language_info": {
   "codemirror_mode": {
    "name": "ipython",
    "version": 3
   },
   "file_extension": ".py",
   "mimetype": "text/x-python",
   "name": "python",
   "nbconvert_exporter": "python",
   "pygments_lexer": "ipython3",
   "version": "3.9.16"
  },
  "orig_nbformat": 4,
  "vscode": {
   "interpreter": {
    "hash": "7899ebb7610f36207965d38f68f9fcf69ead4646d08358e8b81fddd5bb8ec13e"
   }
  }
 },
 "nbformat": 4,
 "nbformat_minor": 2
}
