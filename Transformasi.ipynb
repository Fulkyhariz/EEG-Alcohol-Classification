{
 "cells": [
  {
   "cell_type": "code",
   "execution_count": 1,
   "metadata": {},
   "outputs": [],
   "source": [
    "import os\n",
    "import gzip\n",
    "import shutil\n",
    "import pandas as pd\n"
   ]
  },
  {
   "cell_type": "code",
   "execution_count": 3,
   "metadata": {},
   "outputs": [],
   "source": [
    "directory_train = 'SMNI_CMI_TRAIN'\n",
    "directory_test = 'SMNI_CMI_TEST'"
   ]
  },
  {
   "cell_type": "markdown",
   "metadata": {},
   "source": [
    "# Preprocessing\n",
    "Unzipping file"
   ]
  },
  {
   "cell_type": "code",
   "execution_count": 4,
   "metadata": {},
   "outputs": [],
   "source": [
    "def unzip(directory):\n",
    "    for foldername in os.listdir(directory):\n",
    "        folder = os.path.join(directory, foldername)\n",
    "        if os.path.isdir(folder):\n",
    "            for filename in os.listdir(folder):\n",
    "                rel_path = os.path.join(directory, foldername, filename)\n",
    "                with gzip.open(rel_path, 'rb') as f_in:\n",
    "                    des_dir = des_path = os.path.join(directory + '_EXTRACTED',foldername)\n",
    "                    des_file = filename + '.txt'\n",
    "                    if not os.path.exists(des_dir):\n",
    "                        os.makedirs(des_dir)\n",
    "                    des_path = os.path.join(des_dir, des_file)\n",
    "                    with open(des_path, 'wb') as f_out:\n",
    "                        shutil.copyfileobj(f_in, f_out)"
   ]
  },
  {
   "cell_type": "code",
   "execution_count": 32,
   "metadata": {},
   "outputs": [
    {
     "name": "stdout",
     "output_type": "stream",
     "text": [
      "   Channel_Number Channel Trial       0       1       2       3       4  \\\n",
      "0               0     FP1    30  -3.550  -5.015  -5.503  -3.550  -0.621   \n",
      "1               1     FP2    30  -4.476  -3.499  -1.058   1.383   3.337   \n",
      "2               2      F7    30  -1.017  -3.947  -5.900  -4.924  -2.970   \n",
      "3               3      F8    30  -0.661   5.198  10.569  13.987  13.499   \n",
      "4               4     AF1    30  -6.083  -4.618  -2.177   1.241   2.706   \n",
      "..            ...     ...   ...     ...     ...     ...     ...     ...   \n",
      "59             59      P2    30   0.824   1.312   0.824   0.336  -0.153   \n",
      "60             60      P1    30   2.604   2.116   0.651  -2.279  -3.743   \n",
      "61             61     CPZ    30   1.790   1.302   0.326  -0.651  -1.139   \n",
      "62             62      nd    30  -3.560  -4.537  -5.025  -3.560  -0.631   \n",
      "63             63       Y    30  -5.341  -5.341  -4.364  -3.876  -3.876   \n",
      "\n",
      "         5       6  ...     246     247     248     249     250     251  \\\n",
      "0    1.821   2.309  ...   5.727   4.751   3.774   4.751   6.215   6.215   \n",
      "1    2.848   2.360  ...   8.219   2.848  -2.523  -4.476  -0.570   5.778   \n",
      "2   -1.994  -1.994  ...  11.678   4.842  -0.529  -1.994  -0.529   1.424   \n",
      "3    9.593   4.222  ...   9.104   4.222  -2.614  -7.985  -7.985  -3.591   \n",
      "4    2.706   1.729  ...   3.194   0.753  -0.712   0.264   1.241   1.729   \n",
      "..     ...     ...  ...     ...     ...     ...     ...     ...     ...   \n",
      "59  -0.641  -0.153  ...   2.777   0.824  -1.129  -3.082  -3.082  -2.594   \n",
      "60  -3.743  -2.279  ...   2.116  -0.326  -2.279  -3.743  -3.743  -2.767   \n",
      "61  -1.139  -0.651  ...   0.814   0.326  -0.651  -0.651  -0.651  -0.163   \n",
      "62   1.811   2.299  ...   5.717   4.740   3.764   4.252   5.229   5.717   \n",
      "63  -4.364  -5.829  ...   7.843   4.425   0.031  -2.899  -2.411   1.007   \n",
      "\n",
      "       252     253     254     255  \n",
      "0    4.751   1.333  -1.109   0.356  \n",
      "1   10.173   9.684   5.778   2.360  \n",
      "2    0.936  -2.970  -5.900  -6.388  \n",
      "3    1.780   3.733   2.268   0.315  \n",
      "4    0.264  -1.689  -2.177  -0.224  \n",
      "..     ...     ...     ...     ...  \n",
      "59  -0.641   0.336   1.312   0.824  \n",
      "60  -0.814   0.651   1.139   1.139  \n",
      "61   0.326   0.814   0.814   0.814  \n",
      "62   4.740   1.811  -0.631   0.346  \n",
      "63   3.937   3.937   2.472   1.495  \n",
      "\n",
      "[64 rows x 259 columns]\n"
     ]
    }
   ],
   "source": [
    "from operator import index\n",
    "\n",
    "\n",
    "with open(\"test.txt\") as file:  # the a opens it in append mode\n",
    "    lines = []\n",
    "    for i in range(4):\n",
    "        line = next(file).strip()\n",
    "        lines = lines + line.split()\n",
    "    lines = [value for value in lines if value != '#']\n",
    "    metadata = pd.DataFrame(index=[0], columns=['filename', 'trials', 'samples', 'post_stim_samples', 'stimulation', 'trial'])\n",
    "    metadata['filename'] = lines[0]\n",
    "    metadata['trials'] = lines[1]\n",
    "    metadata['samples'] = lines[5]\n",
    "    metadata['post_stim_samples'] = lines[7]\n",
    "    metadata['stimulation'] = lines[13] + ' ' + lines[14]\n",
    "    metadata['trial'] = lines[17]\n",
    "    #metadata = pd.concat([metadata, metadata], ignore_index=True)\n",
    "    pd_data = pd.DataFrame()\n",
    "    for _ in range(64):\n",
    "        time_series = pd.DataFrame(index=[0])\n",
    "        channel = next(file).split()\n",
    "        time_series['Channel_Number'] = channel[3]\n",
    "        time_series['Channel'] = channel[1]\n",
    "        temp_data = next(file).split()\n",
    "        time_series['Trial'] = temp_data[0]\n",
    "        time_series[str(temp_data[2])] = temp_data[3]\n",
    "        for _ in range(255):\n",
    "            temp_data = next(file).split()\n",
    "            pd_temp = pd.DataFrame({str(temp_data[2]):[temp_data[3]]})\n",
    "            time_series = pd.concat((time_series, pd_temp), axis=1)\n",
    "        pd_data = pd.concat([pd_data, time_series], ignore_index=True)\n",
    "    print(pd_data)\n",
    "    \n",
    "        "
   ]
  }
 ],
 "metadata": {
  "kernelspec": {
   "display_name": "Python 3.9.12 ('base')",
   "language": "python",
   "name": "python3"
  },
  "language_info": {
   "codemirror_mode": {
    "name": "ipython",
    "version": 3
   },
   "file_extension": ".py",
   "mimetype": "text/x-python",
   "name": "python",
   "nbconvert_exporter": "python",
   "pygments_lexer": "ipython3",
   "version": "3.9.12"
  },
  "orig_nbformat": 4,
  "vscode": {
   "interpreter": {
    "hash": "bd718f644e6d14c5e13993a2e87184d8e7005eed7bb713743d3b2dd6952b467a"
   }
  }
 },
 "nbformat": 4,
 "nbformat_minor": 2
}
