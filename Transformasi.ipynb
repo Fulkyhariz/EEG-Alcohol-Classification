{
 "cells": [
  {
   "cell_type": "code",
   "execution_count": 1,
   "metadata": {},
   "outputs": [],
   "source": [
    "import os\n",
    "import gzip\n",
    "import shutil\n",
    "import pandas as pd\n"
   ]
  },
  {
   "cell_type": "code",
   "execution_count": 3,
   "metadata": {},
   "outputs": [],
   "source": [
    "directory_train = 'SMNI_CMI_TRAIN'\n",
    "directory_test = 'SMNI_CMI_TEST'"
   ]
  },
  {
   "cell_type": "markdown",
   "metadata": {},
   "source": [
    "# Preprocessing\n",
    "Unzipping file"
   ]
  },
  {
   "cell_type": "code",
   "execution_count": 4,
   "metadata": {},
   "outputs": [],
   "source": [
    "def unzip(directory):\n",
    "    for foldername in os.listdir(directory):\n",
    "        folder = os.path.join(directory, foldername)\n",
    "        if os.path.isdir(folder):\n",
    "            for filename in os.listdir(folder):\n",
    "                rel_path = os.path.join(directory, foldername, filename)\n",
    "                with gzip.open(rel_path, 'rb') as f_in:\n",
    "                    des_dir = des_path = os.path.join(directory + '_EXTRACTED',foldername)\n",
    "                    des_file = filename + '.txt'\n",
    "                    if not os.path.exists(des_dir):\n",
    "                        os.makedirs(des_dir)\n",
    "                    des_path = os.path.join(des_dir, des_file)\n",
    "                    with open(des_path, 'wb') as f_out:\n",
    "                        shutil.copyfileobj(f_in, f_out)"
   ]
  },
  {
   "cell_type": "code",
   "execution_count": 40,
   "metadata": {},
   "outputs": [],
   "source": [
    "from operator import index\n",
    "def extract_text(directory):\n",
    "    for foldername in os.listdir(directory):\n",
    "        folder = os.path.join(directory, foldername)\n",
    "        if os.path.isdir(folder):\n",
    "            metadata = pd.DataFrame(index=[0], columns=['filename', 'trials', 'samples', 'post_stim_samples', 'stimulation', 'trial'])\n",
    "            des_dir = os.path.join(directory + '_CSV',foldername)\n",
    "            for filename in os.listdir(folder):\n",
    "                rel_path = os.path.join(directory, foldername, filename)\n",
    "                with open(rel_path) as file:\n",
    "                    lines = []\n",
    "                    for i in range(4):\n",
    "                        line = next(file).strip()\n",
    "                        lines = lines + line.split()\n",
    "                    lines = [value for value in lines if value != '#']\n",
    "                    meta_temp = pd.DataFrame(index=[0], columns=['filename', 'trials', 'samples', 'post_stim_samples', 'stimulation', 'trial'])\n",
    "                    meta_temp['filename'] = lines[0]\n",
    "                    meta_temp['trials'] = lines[1]\n",
    "                    meta_temp['samples'] = lines[5]\n",
    "                    meta_temp['post_stim_samples'] = lines[7]\n",
    "                    meta_temp['stimulation'] = lines[13] + ' ' + lines[14]\n",
    "                    meta_temp['trial'] = lines[17]\n",
    "                    meta_temp = pd.concat([metadata, meta_temp], ignore_index=True)\n",
    "                    pd_data = pd.DataFrame()\n",
    "                    for _ in range(64):\n",
    "                        time_series = pd.DataFrame(index=[0])\n",
    "                        channel = next(file).split()\n",
    "                        time_series['Channel_Number'] = channel[3]\n",
    "                        time_series['Channel'] = channel[1]\n",
    "                        temp_data = next(file).split()\n",
    "                        time_series['Trial'] = temp_data[0]\n",
    "                        time_series[str(temp_data[2])] = temp_data[3]\n",
    "                        for _ in range(255):\n",
    "                            temp_data = next(file).split()\n",
    "                            pd_temp = pd.DataFrame({str(temp_data[2]):[temp_data[3]]})\n",
    "                            time_series = pd.concat((time_series, pd_temp), axis=1)\n",
    "                        pd_data = pd.concat([pd_data, time_series], ignore_index=True)\n",
    "                    des_file = filename + '.csv'\n",
    "                    if not os.path.exists(des_dir):\n",
    "                        os.makedirs(des_dir)\n",
    "                    des_path = os.path.join(des_dir, des_file)\n",
    "                    pd_data.to_csv(des_path, index=False)\n",
    "            des_path = os.path.join(des_dir, foldername + '_Metadata.csv')\n",
    "            metadata.to_csv(des_path)\n",
    "    \n",
    "        "
   ]
  },
  {
   "cell_type": "code",
   "execution_count": 41,
   "metadata": {},
   "outputs": [
    {
     "ename": "IndexError",
     "evalue": "list index out of range",
     "output_type": "error",
     "traceback": [
      "\u001b[1;31m---------------------------------------------------------------------------\u001b[0m",
      "\u001b[1;31mIndexError\u001b[0m                                Traceback (most recent call last)",
      "\u001b[1;32mc:\\Users\\fulky\\Documents\\Akademik\\7th term\\Seminar\\Code\\Transformasi.ipynb Cell 6\u001b[0m in \u001b[0;36m<cell line: 1>\u001b[1;34m()\u001b[0m\n\u001b[1;32m----> <a href='vscode-notebook-cell:/c%3A/Users/fulky/Documents/Akademik/7th%20term/Seminar/Code/Transformasi.ipynb#W5sZmlsZQ%3D%3D?line=0'>1</a>\u001b[0m extract_text(\u001b[39m'\u001b[39;49m\u001b[39mSMNI_CMI_TEST_EXTRACTED\u001b[39;49m\u001b[39m'\u001b[39;49m)\n",
      "\u001b[1;32mc:\\Users\\fulky\\Documents\\Akademik\\7th term\\Seminar\\Code\\Transformasi.ipynb Cell 6\u001b[0m in \u001b[0;36mextract_text\u001b[1;34m(directory)\u001b[0m\n\u001b[0;32m     <a href='vscode-notebook-cell:/c%3A/Users/fulky/Documents/Akademik/7th%20term/Seminar/Code/Transformasi.ipynb#W5sZmlsZQ%3D%3D?line=19'>20</a>\u001b[0m meta_temp[\u001b[39m'\u001b[39m\u001b[39mpost_stim_samples\u001b[39m\u001b[39m'\u001b[39m] \u001b[39m=\u001b[39m lines[\u001b[39m7\u001b[39m]\n\u001b[0;32m     <a href='vscode-notebook-cell:/c%3A/Users/fulky/Documents/Akademik/7th%20term/Seminar/Code/Transformasi.ipynb#W5sZmlsZQ%3D%3D?line=20'>21</a>\u001b[0m meta_temp[\u001b[39m'\u001b[39m\u001b[39mstimulation\u001b[39m\u001b[39m'\u001b[39m] \u001b[39m=\u001b[39m lines[\u001b[39m13\u001b[39m] \u001b[39m+\u001b[39m \u001b[39m'\u001b[39m\u001b[39m \u001b[39m\u001b[39m'\u001b[39m \u001b[39m+\u001b[39m lines[\u001b[39m14\u001b[39m]\n\u001b[1;32m---> <a href='vscode-notebook-cell:/c%3A/Users/fulky/Documents/Akademik/7th%20term/Seminar/Code/Transformasi.ipynb#W5sZmlsZQ%3D%3D?line=21'>22</a>\u001b[0m meta_temp[\u001b[39m'\u001b[39m\u001b[39mtrial\u001b[39m\u001b[39m'\u001b[39m] \u001b[39m=\u001b[39m lines[\u001b[39m17\u001b[39;49m]\n\u001b[0;32m     <a href='vscode-notebook-cell:/c%3A/Users/fulky/Documents/Akademik/7th%20term/Seminar/Code/Transformasi.ipynb#W5sZmlsZQ%3D%3D?line=22'>23</a>\u001b[0m meta_temp \u001b[39m=\u001b[39m pd\u001b[39m.\u001b[39mconcat([metadata, meta_temp], ignore_index\u001b[39m=\u001b[39m\u001b[39mTrue\u001b[39;00m)\n\u001b[0;32m     <a href='vscode-notebook-cell:/c%3A/Users/fulky/Documents/Akademik/7th%20term/Seminar/Code/Transformasi.ipynb#W5sZmlsZQ%3D%3D?line=23'>24</a>\u001b[0m pd_data \u001b[39m=\u001b[39m pd\u001b[39m.\u001b[39mDataFrame()\n",
      "\u001b[1;31mIndexError\u001b[0m: list index out of range"
     ]
    }
   ],
   "source": [
    "extract_text('SMNI_CMI_TEST_EXTRACTED')"
   ]
  }
 ],
 "metadata": {
  "kernelspec": {
   "display_name": "Python 3.9.12 ('base')",
   "language": "python",
   "name": "python3"
  },
  "language_info": {
   "codemirror_mode": {
    "name": "ipython",
    "version": 3
   },
   "file_extension": ".py",
   "mimetype": "text/x-python",
   "name": "python",
   "nbconvert_exporter": "python",
   "pygments_lexer": "ipython3",
   "version": "3.9.12"
  },
  "orig_nbformat": 4,
  "vscode": {
   "interpreter": {
    "hash": "bd718f644e6d14c5e13993a2e87184d8e7005eed7bb713743d3b2dd6952b467a"
   }
  }
 },
 "nbformat": 4,
 "nbformat_minor": 2
}
