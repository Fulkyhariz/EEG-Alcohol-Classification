{
 "cells": [
  {
   "cell_type": "code",
   "execution_count": 1,
   "metadata": {},
   "outputs": [],
   "source": [
    "import os\n",
    "import gzip\n",
    "import shutil\n",
    "import pandas as pd\n"
   ]
  },
  {
   "cell_type": "code",
   "execution_count": 3,
   "metadata": {},
   "outputs": [],
   "source": [
    "directory_train = 'SMNI_CMI_TRAIN'\n",
    "directory_test = 'SMNI_CMI_TEST'"
   ]
  },
  {
   "cell_type": "markdown",
   "metadata": {},
   "source": [
    "# Preprocessing\n",
    "Unzipping file"
   ]
  },
  {
   "cell_type": "code",
   "execution_count": 2,
   "metadata": {},
   "outputs": [],
   "source": [
    "def unzip(directory):\n",
    "    for foldername in os.listdir(directory):\n",
    "        folder = os.path.join(directory, foldername)\n",
    "        if os.path.isdir(folder):\n",
    "            for filename in os.listdir(folder):\n",
    "                rel_path = os.path.join(directory, foldername, filename)\n",
    "                with gzip.open(rel_path, 'rb') as f_in:\n",
    "                    des_dir = des_path = os.path.join(directory + '_EXTRACTED',foldername)\n",
    "                    des_file = filename + '.txt'\n",
    "                    if not os.path.exists(des_dir):\n",
    "                        os.makedirs(des_dir)\n",
    "                    des_path = os.path.join(des_dir, des_file)\n",
    "                    with open(des_path, 'wb') as f_out:\n",
    "                        shutil.copyfileobj(f_in, f_out)"
   ]
  },
  {
   "cell_type": "code",
   "execution_count": 3,
   "metadata": {},
   "outputs": [],
   "source": [
    "from operator import index\n",
    "def extract_text(directory):\n",
    "    for foldername in os.listdir(directory):\n",
    "        folder = os.path.join(directory, foldername)\n",
    "        if os.path.isdir(folder):\n",
    "            metadata = pd.DataFrame(index=[0], columns=['filename', 'trials', 'samples', 'post_stim_samples', 'stimulation', 'trial'])\n",
    "            des_dir = os.path.join(directory + '_CSV',foldername)\n",
    "            for filename in os.listdir(folder):\n",
    "                rel_path = os.path.join(directory, foldername, filename)\n",
    "                with open(rel_path) as file:\n",
    "                    lines = []\n",
    "                    for i in range(4):\n",
    "                        line = next(file).strip()\n",
    "                        lines = lines + line.split()\n",
    "                    lines = [value for value in lines if value != '#']\n",
    "                    meta_temp = pd.DataFrame(index=[0], columns=['filename', 'trials', 'samples', 'post_stim_samples', 'stimulation', 'trial'])\n",
    "                    meta_temp['filename'] = lines[0]\n",
    "                    meta_temp['trials'] = lines[1]\n",
    "                    meta_temp['samples'] = lines[5]\n",
    "                    meta_temp['post_stim_samples'] = lines[7]\n",
    "                    if lines[14] == 'nomatch,':\n",
    "                        meta_temp['stimulation'] = lines[13] + ' ' + lines[14].remove(',')\n",
    "                        meta_temp['trial'] = lines[16]\n",
    "                    else:\n",
    "                        meta_temp['stimulation'] = lines[13] + ' ' + lines[14]\n",
    "                        meta_temp['trial'] = lines[17]\n",
    "                    meta_temp = pd.concat([metadata, meta_temp], ignore_index=True)\n",
    "                    pd_data = pd.DataFrame()\n",
    "                    for _ in range(64):\n",
    "                        time_series = pd.DataFrame(index=[0])\n",
    "                        channel = next(file).split()\n",
    "                        time_series['Channel_Number'] = channel[3]\n",
    "                        time_series['Channel'] = channel[1]\n",
    "                        temp_data = next(file).split()\n",
    "                        time_series['Trial'] = temp_data[0]\n",
    "                        time_series[str(temp_data[2])] = temp_data[3]\n",
    "                        for _ in range(255):\n",
    "                            temp_data = next(file).split()\n",
    "                            pd_temp = pd.DataFrame({str(temp_data[2]):[temp_data[3]]})\n",
    "                            time_series = pd.concat((time_series, pd_temp), axis=1)\n",
    "                        pd_data = pd.concat([pd_data, time_series], ignore_index=True)\n",
    "                    des_file = folder+'_'+ meta_temp['trial'] + '.csv'\n",
    "                    if not os.path.exists(des_dir):\n",
    "                        os.makedirs(des_dir)\n",
    "                    des_path = os.path.join(des_dir, des_file)\n",
    "                    pd_data.to_csv(des_path, index=False)\n",
    "            des_path = os.path.join(des_dir, foldername + '_Metadata.csv')\n",
    "            metadata.to_csv(des_path)"
   ]
  },
  {
   "cell_type": "code",
   "execution_count": null,
   "metadata": {},
   "outputs": [],
   "source": [
    "extract_text('SMNI_CMI_TEST_EXTRACTED')"
   ]
  },
  {
   "cell_type": "code",
   "execution_count": null,
   "metadata": {},
   "outputs": [],
   "source": []
  }
 ],
 "metadata": {
  "kernelspec": {
   "display_name": "Python 3.9.12 ('base')",
   "language": "python",
   "name": "python3"
  },
  "language_info": {
   "codemirror_mode": {
    "name": "ipython",
    "version": 3
   },
   "file_extension": ".py",
   "mimetype": "text/x-python",
   "name": "python",
   "nbconvert_exporter": "python",
   "pygments_lexer": "ipython3",
   "version": "3.9.12"
  },
  "orig_nbformat": 4,
  "vscode": {
   "interpreter": {
    "hash": "bd718f644e6d14c5e13993a2e87184d8e7005eed7bb713743d3b2dd6952b467a"
   }
  }
 },
 "nbformat": 4,
 "nbformat_minor": 2
}
