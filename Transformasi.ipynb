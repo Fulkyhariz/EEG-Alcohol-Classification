{
 "cells": [
  {
   "cell_type": "code",
   "execution_count": 1,
   "metadata": {},
   "outputs": [],
   "source": [
    "import os\n",
    "import gzip\n",
    "import shutil\n",
    "import pandas as pd\n"
   ]
  },
  {
   "cell_type": "code",
   "execution_count": 3,
   "metadata": {},
   "outputs": [],
   "source": [
    "directory_train = 'SMNI_CMI_TRAIN'\n",
    "directory_test = 'SMNI_CMI_TEST'"
   ]
  },
  {
   "cell_type": "markdown",
   "metadata": {},
   "source": [
    "# Preprocessing\n",
    "Unzipping file"
   ]
  },
  {
   "cell_type": "code",
   "execution_count": 4,
   "metadata": {},
   "outputs": [],
   "source": [
    "def unzip(directory):\n",
    "    for foldername in os.listdir(directory):\n",
    "        folder = os.path.join(directory, foldername)\n",
    "        if os.path.isdir(folder):\n",
    "            for filename in os.listdir(folder):\n",
    "                rel_path = os.path.join(directory, foldername, filename)\n",
    "                with gzip.open(rel_path, 'rb') as f_in:\n",
    "                    des_dir = des_path = os.path.join(directory + '_EXTRACTED',foldername)\n",
    "                    des_file = filename + '.txt'\n",
    "                    if not os.path.exists(des_dir):\n",
    "                        os.makedirs(des_dir)\n",
    "                    des_path = os.path.join(des_dir, des_file)\n",
    "                    with open(des_path, 'wb') as f_out:\n",
    "                        shutil.copyfileobj(f_in, f_out)"
   ]
  },
  {
   "cell_type": "code",
   "execution_count": 28,
   "metadata": {},
   "outputs": [
    {
     "name": "stdout",
     "output_type": "stream",
     "text": [
      "  Channel_Number Channel Trial       0       1       2       3       4      5  \\\n",
      "0              0     FP1    30  -3.550  -5.015  -5.503  -3.550  -0.621  1.821   \n",
      "\n",
      "       6  ...    246    247    248    249    250    251    252    253     254  \\\n",
      "0  2.309  ...  5.727  4.751  3.774  4.751  6.215  6.215  4.751  1.333  -1.109   \n",
      "\n",
      "     255  \n",
      "0  0.356  \n",
      "\n",
      "[1 rows x 259 columns]\n"
     ]
    }
   ],
   "source": [
    "from operator import index\n",
    "\n",
    "\n",
    "with open(\"test.txt\") as file:  # the a opens it in append mode\n",
    "    lines = []\n",
    "    for i in range(4):\n",
    "        line = next(file).strip()\n",
    "        lines = lines + line.split()\n",
    "    lines = [value for value in lines if value != '#']\n",
    "    test = pd.DataFrame(index=[0], columns=['filename', 'trials', 'samples', 'post_stim_samples', 'stimulation', 'trial'])\n",
    "    test['filename'] = lines[0]\n",
    "    test['trials'] = lines[1]\n",
    "    test['samples'] = lines[5]\n",
    "    test['post_stim_samples'] = lines[7]\n",
    "    test['stimulation'] = lines[13] + ' ' + lines[14]\n",
    "    test['trial'] = lines[17]\n",
    "    test = pd.concat([test, test], ignore_index=True)\n",
    "    time_series = pd.DataFrame(index=[0])\n",
    "    channel = next(file).split()\n",
    "    time_series['Channel_Number'] = channel[3]\n",
    "    time_series['Channel'] = channel[1]\n",
    "    temp_data = next(file).split()\n",
    "    time_series['Trial'] = temp_data[0]\n",
    "    time_series[str(temp_data[2])] = temp_data[3]\n",
    "    for _ in range(255):\n",
    "        temp_data = next(file).split()\n",
    "        pd_temp = pd.DataFrame({str(temp_data[2]):[temp_data[3]]})\n",
    "        time_series = pd.concat((time_series, pd_temp), axis=1)\n",
    "    \n",
    "    print(time_series)\n",
    "        "
   ]
  }
 ],
 "metadata": {
  "kernelspec": {
   "display_name": "Python 3.9.12 ('base')",
   "language": "python",
   "name": "python3"
  },
  "language_info": {
   "codemirror_mode": {
    "name": "ipython",
    "version": 3
   },
   "file_extension": ".py",
   "mimetype": "text/x-python",
   "name": "python",
   "nbconvert_exporter": "python",
   "pygments_lexer": "ipython3",
   "version": "3.9.12"
  },
  "orig_nbformat": 4,
  "vscode": {
   "interpreter": {
    "hash": "bd718f644e6d14c5e13993a2e87184d8e7005eed7bb713743d3b2dd6952b467a"
   }
  }
 },
 "nbformat": 4,
 "nbformat_minor": 2
}
